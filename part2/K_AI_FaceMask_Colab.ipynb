{
  "nbformat": 4,
  "nbformat_minor": 0,
  "metadata": {
    "colab": {
      "name": "K_AI_FaceMask_Colab.ipynb",
      "provenance": [],
      "collapsed_sections": []
    },
    "kernelspec": {
      "display_name": "Python 3",
      "name": "python3"
    },
    "language_info": {
      "name": "python"
    }
  },
  "cells": [
    {
      "cell_type": "markdown",
      "metadata": {
        "id": "oV_8ALZNZDOx"
      },
      "source": [
        "# initial setup\n",
        "* Uses a google account's google drive to store dataset\n",
        "* prerequisites : a folder named \"AI\" in the root directory of drive which will be used for dataset."
      ]
    },
    {
      "cell_type": "code",
      "metadata": {
        "colab": {
          "base_uri": "https://localhost:8080/"
        },
        "id": "PZyWLXp9JQzv",
        "outputId": "f21bc2b9-e98b-464a-8ccb-1d235836def8"
      },
      "source": [
        "from google.colab import drive\n",
        "import os\n",
        "\n",
        "drive.mount('/content/drive', force_remount=True)\n",
        "os.chdir(\"drive/My Drive/Capped\")"
      ],
      "execution_count": null,
      "outputs": [
        {
          "output_type": "stream",
          "name": "stdout",
          "text": [
            "Mounted at /content/drive\n"
          ]
        }
      ]
    },
    {
      "cell_type": "markdown",
      "metadata": {
        "id": "X4V4NXxMZBYE"
      },
      "source": [
        "# Loading the dataset - \n",
        "* Downloads the face mask dataset to your drive and unzips it using drive REST Api.\n",
        "* Loads the images and its labels to a pandas dataframe\n",
        "* Save the dataframe as a  pickle file, which can be subsequently used training the model.\n",
        "* ref : https://colab.research.google.com/notebooks/io.ipynb#scrollTo=u22w3BFiOveA"
      ]
    },
    {
      "cell_type": "code",
      "metadata": {
        "colab": {
          "base_uri": "https://localhost:8080/"
        },
        "id": "wC4BFFeBJhbb",
        "outputId": "31e20adc-fee5-4ba6-cd07-c97d60f3b3b7"
      },
      "source": [
        "\"\"\"\n",
        "Preparing the pickle\n",
        "\"\"\"\n",
        "\n",
        "from pathlib import Path\n",
        "\n",
        "import pandas as pd\n",
        "from google_drive_downloader import GoogleDriveDownloader as gdd\n",
        "from google.colab import drive\n",
        "from tqdm import tqdm\n",
        "from pathlib import Path\n",
        "import shutil\n",
        "\n",
        "\n",
        "dirpath = Path('data/dataset')\n",
        "# cleaing tree\n",
        "if dirpath.exists() and dirpath.is_dir():\n",
        "    shutil.rmtree(dirpath)\n",
        "\n",
        "os.makedirs('data/dataset')\n",
        "datasetPath = Path('data/dataset/Capped.zip')\n",
        "gdd.download_file_from_google_drive(file_id='1E91_9H335kU4xWXNZ193rXPAA4baom2H',dest_path=str(datasetPath),unzip=True)\n",
        "\n",
        "# https://drive.google.com/file/d/1E91_9H335kU4xWXNZ193rXPAA4baom2H/view?usp=sharing\n",
        "# https://drive.google.com/file/d/1UDvUL7nuzt3JStnN1KOl_onC5h7q6H9O/view?usp=sharing\n",
        "# Id for hosted file : 1UDvUL7nuzt3JStnN1KOl_onC5h7q6H9O\n",
        "\n",
        "datasetPath.unlink()\n",
        "datasetPath = Path('data/dataset')\n",
        "clothMaskPath = datasetPath/'with_cloth_mask'\n",
        "surgicalMaskPath = datasetPath/'with_surgical_mask'\n",
        "ffp2MaskPath = datasetPath/'with_ffp2_mask'\n",
        "nonMaskPath = datasetPath/'without_mask'\n",
        "\n",
        "maskDF = pd.DataFrame()\n",
        "for imgPath in tqdm(list(nonMaskPath.iterdir()), desc='without_mask'):\n",
        "    maskDF = maskDF.append({\n",
        "        'image': str(imgPath),\n",
        "        'mask': 0\n",
        "    }, ignore_index=True)\n",
        "\n",
        "for imgPath in tqdm(list(surgicalMaskPath.iterdir()), desc='with_surgical_mask'):\n",
        "    maskDF = maskDF.append({\n",
        "        'image': str(imgPath),\n",
        "        'mask': 1\n",
        "    }, ignore_index=True)\n",
        "\n",
        "for imgPath in tqdm(list(clothMaskPath.iterdir()), desc='with_cloth_mask'):\n",
        "    maskDF = maskDF.append({\n",
        "        'image': str(imgPath),\n",
        "        'mask': 2\n",
        "    }, ignore_index=True)\n",
        "\n",
        "for imgPath in tqdm(list(ffp2MaskPath.iterdir()), desc='with_ffp2_mask'):\n",
        "    maskDF = maskDF.append({\n",
        "        'image': str(imgPath),\n",
        "        'mask': 3\n",
        "    }, ignore_index=True)\n",
        "\n",
        "print(maskDF)\n",
        "\n",
        "dfName = 'data/dataset/dataset.pickle'\n",
        "print(f'Saving Dataframe to: {dfName}')\n",
        "maskDF.to_pickle(dfName)"
      ],
      "execution_count": null,
      "outputs": [
        {
          "output_type": "stream",
          "name": "stdout",
          "text": [
            "Downloading 1E91_9H335kU4xWXNZ193rXPAA4baom2H into data/dataset/Capped.zip... Done.\n",
            "Unzipping...Done.\n"
          ]
        },
        {
          "output_type": "stream",
          "name": "stderr",
          "text": [
            "without_mask: 100%|██████████| 2160/2160 [00:05<00:00, 372.49it/s]\n",
            "with_surgical_mask: 100%|██████████| 2103/2103 [00:05<00:00, 369.10it/s]\n",
            "with_cloth_mask: 100%|██████████| 2162/2162 [00:05<00:00, 367.90it/s]\n",
            "with_ffp2_mask: 100%|██████████| 2180/2180 [00:05<00:00, 373.61it/s]\n"
          ]
        },
        {
          "output_type": "stream",
          "name": "stdout",
          "text": [
            "                                                  image  mask\n",
            "0     data/dataset/without_mask/25_0_1_2017011313414...   0.0\n",
            "1     data/dataset/without_mask/25_0_1_2017011314252...   0.0\n",
            "2     data/dataset/without_mask/25_0_1_2017011314514...   0.0\n",
            "3     data/dataset/without_mask/25_0_1_2017011314521...   0.0\n",
            "4     data/dataset/without_mask/25_0_1_2017011314542...   0.0\n",
            "...                                                 ...   ...\n",
            "8600  data/dataset/with_ffp2_mask/65_0_1_20170120223...   3.0\n",
            "8601  data/dataset/with_ffp2_mask/65_0_1_20170120223...   3.0\n",
            "8602  data/dataset/with_ffp2_mask/65_0_1_20170120224...   3.0\n",
            "8603  data/dataset/with_ffp2_mask/65_1_0_20170110183...   3.0\n",
            "8604  data/dataset/with_ffp2_mask/65_1_1_20170110124...   3.0\n",
            "\n",
            "[8605 rows x 2 columns]\n",
            "Saving Dataframe to: data/dataset/dataset.pickle\n"
          ]
        }
      ]
    },
    {
      "cell_type": "markdown",
      "metadata": {
        "id": "WDCVfhhRaYqe"
      },
      "source": [
        "# Custom dataset class\n",
        "* Loads the dataset as PIL\n",
        "* Resizes images to 32x32\n",
        "* Convert image to tensor -https://discuss.pytorch.org/t/pytorch-pil-to-tensor-and-vice-versa/6312\n",
        "* Normalizes images to have values in the range of 0-1"
      ]
    },
    {
      "cell_type": "code",
      "metadata": {
        "id": "10_6hRXkKFNe"
      },
      "source": [
        "\"\"\"\n",
        "The DataSet class\n",
        "\"\"\"\n",
        "\n",
        "from PIL import Image\n",
        "import numpy as np\n",
        "from torch import long, tensor\n",
        "from torch.utils.data.dataset import Dataset\n",
        "from torchvision.transforms import Compose, Resize, ToTensor, Normalize\n",
        "\n",
        "\n",
        "class MaskDetectionDataset(Dataset):\n",
        "    def __init__(self, dataFrame):\n",
        "        self.dataFrame = dataFrame\n",
        "        # mean=[0.485, 0.456, 0.406],\n",
        "        # std=[0.229, 0.224, 0.225],\n",
        "        self.transformations = Compose([\n",
        "            Resize((32, 32)),\n",
        "            ToTensor(),\n",
        "            Normalize(\n",
        "                mean=[0.485, 0.456, 0.406],\n",
        "                std=[0.229, 0.224, 0.225]\n",
        "                )\n",
        "        ])\n",
        "    \n",
        "    def __getitem__(self, key):\n",
        "        if isinstance(key, slice):\n",
        "            raise NotImplementedError('slicing is not supported')\n",
        "        \n",
        "        row = self.dataFrame.iloc[key]\n",
        "        image = Image.open(row['image']).convert('RGB')\n",
        "        return {\n",
        "          'image': self.transformations(image),\n",
        "          'mask': tensor([row['mask']], dtype=long),\n",
        "          'path': row['image']\n",
        "        }\n",
        "    \n",
        "    def __len__(self):\n",
        "        return len(self.dataFrame.index)"
      ],
      "execution_count": null,
      "outputs": []
    },
    {
      "cell_type": "markdown",
      "metadata": {
        "id": "FeTxCYnjawcN"
      },
      "source": [
        "# CNN model for face mask detection\n",
        "* The model takes 3 channels(R,G,B) as input\n",
        "* The model gives an output of one of 4 classes \n",
        "* 0 -> without_mask, 1 -> 'with_mask_surgical', 2 -> 'with_mask_cloth', 3 -> 'with_mask_ffp2'"
      ]
    },
    {
      "cell_type": "code",
      "metadata": {
        "colab": {
          "base_uri": "https://localhost:8080/"
        },
        "id": "q0b05Il0KbSM",
        "outputId": "8c790fc1-0ae6-4109-8f88-0e8852e2520b"
      },
      "source": [
        "\"\"\"\n",
        "The CNN model\n",
        "\"\"\"\n",
        "\n",
        "import torch\n",
        "import torch.nn.init as init\n",
        "import torch.nn as nn\n",
        "from torch import Tensor\n",
        "from torch.nn import (Conv2d, CrossEntropyLoss, Linear, MaxPool2d, ReLU, Sequential, functional, LeakyReLU, BatchNorm2d)\n",
        "\n",
        "class FaceMaskDetectorCNN(nn.Module):\n",
        "    def __init__(self):\n",
        "        # super(FaceMaskDetectorCNN, self).__init__()\n",
        "        # # Conv Layers : Conv2d\n",
        "        # self.conv1 = nn.Conv2d(in_channels=3, out_channels=16, kernel_size=3, padding=1) # 32 - 3 + 1 + 2*1 ->  32   -> 16 from forward pass\n",
        "        # self.conv2 = nn.Conv2d(in_channels=16, out_channels=8, kernel_size=3, padding=1) # 32 - 3 + 1 + 2*1 -> 32  -> 8 from forward pass\n",
        "        # #fully Connected: Linear :: features\n",
        "        # # torch.nn.Linear(in_features, out_features, bias=True)\n",
        "        # # in_features – size of each input sample\n",
        "        # # out_features – size of each output sample\n",
        "        # batch_size = 3\n",
        "        # # Simulate a 32 x 32 pixel, rgb \"image\"\n",
        "        # ip = torch.randn(3, 32, 32)\n",
        "        # print(ip.view(batch_size, -1).size())\n",
        "        # self.fc1 = nn.Linear(8 * 8 * 8, 32)  # 8(out_channel :: prev) &&  8 * 8(computation from the forward max_pool2d * 2 with stride 2) \n",
        "        # self.fc2 = nn.Linear(32, 4) # final feature labels as 4\n",
        "    \n",
        "\n",
        "        super(FaceMaskDetectorCNN, self).__init__()\n",
        "        self.conv_layer = nn.Sequential(\n",
        "          nn.Conv2d(in_channels=3, out_channels=32, kernel_size=3, padding=1), # input layer RGB    32  \n",
        "          nn.BatchNorm2d(32),\n",
        "          nn.LeakyReLU(inplace=True),\n",
        "          nn.Conv2d(in_channels=32, out_channels=32, kernel_size=3, padding=1),# feature specific   32\n",
        "          nn.BatchNorm2d(32),\n",
        "          nn.LeakyReLU(inplace=True),\n",
        "          nn.MaxPool2d(kernel_size=2, stride=2),\n",
        "          nn.Conv2d(in_channels=32, out_channels=128, kernel_size=3, padding=1), # 16 * 16\n",
        "          nn.BatchNorm2d(128),\n",
        "          nn.LeakyReLU(inplace=True),\n",
        "          nn.Conv2d(in_channels=128, out_channels=64, kernel_size=3, padding=1), #16\n",
        "          nn.BatchNorm2d(64),\n",
        "          nn.LeakyReLU(inplace=True),\n",
        "          nn.MaxPool2d(kernel_size=2, stride=2),  # 8 * 8\n",
        "        )\n",
        "        self.fc_layer = nn.Sequential(\n",
        "          nn.Dropout(p=0.1),\n",
        "          nn.Linear(8 * 8 * 64, 1000),  # Fully connected (input (l*b*channels) , output features) How \n",
        "          nn.ReLU(inplace=True),\n",
        "          nn.Linear(1000, 512), \n",
        "          nn.ReLU(inplace=True),\n",
        "          nn.Dropout(p=0.1),\n",
        "          nn.Linear(512, 4)  \n",
        "        )\n",
        "\n",
        "    def forward(self, x: Tensor):\n",
        "        \"\"\" forward pass \n",
        "        The forward() method is the actual network transformation. \n",
        "        The forward method is the mapping that maps an input tensor \n",
        "        to a prediction output tensor.\n",
        "        # Convolution Operation\n",
        "        \"\"\"\n",
        "        # out = functional.max_pool2d(torch.tanh(self.conv1(x)), 2) # 32 -> 16\n",
        "        # out = functional.relu(out)\n",
        "        # out = functional.max_pool2d(torch.tanh(self.conv2(out)), 2) # 16 -> 8\n",
        "        # out = functional.relu(out)\n",
        "        # flatten\n",
        "        # out = out.view(-1, 8 * 8 * 8)\n",
        "        # out = torch.tanh(self.fc1(out))\n",
        "        # # fc layer\n",
        "        # out = self.fc2(out)\n",
        "\n",
        "        # conv layers\n",
        "        x = self.conv_layer(x)\n",
        "        # flatten\n",
        "        x = x.view(x.size(0), -1) # reshapes into one dimensional object\n",
        "        # fc layer\n",
        "        x = self.fc_layer(x)\n",
        "        return x\n",
        "\n",
        "face_mask_detector_cnn = FaceMaskDetectorCNN()\n",
        "pkl_model = \"cnn.pkl\"\n",
        "torch.save(face_mask_detector_cnn.state_dict(), ('./%s')%pkl_model)\n",
        "print(face_mask_detector_cnn)"
      ],
      "execution_count": null,
      "outputs": [
        {
          "output_type": "stream",
          "name": "stdout",
          "text": [
            "FaceMaskDetectorCNN(\n",
            "  (conv_layer): Sequential(\n",
            "    (0): Conv2d(3, 32, kernel_size=(3, 3), stride=(1, 1), padding=(1, 1))\n",
            "    (1): BatchNorm2d(32, eps=1e-05, momentum=0.1, affine=True, track_running_stats=True)\n",
            "    (2): LeakyReLU(negative_slope=0.01, inplace=True)\n",
            "    (3): Conv2d(32, 32, kernel_size=(3, 3), stride=(1, 1), padding=(1, 1))\n",
            "    (4): BatchNorm2d(32, eps=1e-05, momentum=0.1, affine=True, track_running_stats=True)\n",
            "    (5): LeakyReLU(negative_slope=0.01, inplace=True)\n",
            "    (6): MaxPool2d(kernel_size=2, stride=2, padding=0, dilation=1, ceil_mode=False)\n",
            "    (7): Conv2d(32, 128, kernel_size=(3, 3), stride=(1, 1), padding=(1, 1))\n",
            "    (8): BatchNorm2d(128, eps=1e-05, momentum=0.1, affine=True, track_running_stats=True)\n",
            "    (9): LeakyReLU(negative_slope=0.01, inplace=True)\n",
            "    (10): Conv2d(128, 64, kernel_size=(3, 3), stride=(1, 1), padding=(1, 1))\n",
            "    (11): BatchNorm2d(64, eps=1e-05, momentum=0.1, affine=True, track_running_stats=True)\n",
            "    (12): LeakyReLU(negative_slope=0.01, inplace=True)\n",
            "    (13): MaxPool2d(kernel_size=2, stride=2, padding=0, dilation=1, ceil_mode=False)\n",
            "  )\n",
            "  (fc_layer): Sequential(\n",
            "    (0): Dropout(p=0.1, inplace=False)\n",
            "    (1): Linear(in_features=4096, out_features=1000, bias=True)\n",
            "    (2): ReLU(inplace=True)\n",
            "    (3): Linear(in_features=1000, out_features=512, bias=True)\n",
            "    (4): ReLU(inplace=True)\n",
            "    (5): Dropout(p=0.1, inplace=False)\n",
            "    (6): Linear(in_features=512, out_features=4, bias=True)\n",
            "  )\n",
            ")\n"
          ]
        }
      ]
    },
    {
      "cell_type": "markdown",
      "metadata": {
        "id": "1DyRgn1SbMqF"
      },
      "source": [
        "# Summary of Layers"
      ]
    },
    {
      "cell_type": "code",
      "metadata": {
        "colab": {
          "base_uri": "https://localhost:8080/"
        },
        "id": "055xd7XcKxic",
        "outputId": "97bec65c-95fc-473a-9d86-05e92e747cf2"
      },
      "source": [
        "\"\"\"\n",
        "Print model summary\n",
        "\"\"\"\n",
        "\n",
        "from torchsummary import summary\n",
        "print(summary(face_mask_detector_cnn,input_size=(3,32,32)))"
      ],
      "execution_count": null,
      "outputs": [
        {
          "output_type": "stream",
          "name": "stdout",
          "text": [
            "----------------------------------------------------------------\n",
            "        Layer (type)               Output Shape         Param #\n",
            "================================================================\n",
            "            Conv2d-1           [-1, 32, 32, 32]             896\n",
            "       BatchNorm2d-2           [-1, 32, 32, 32]              64\n",
            "         LeakyReLU-3           [-1, 32, 32, 32]               0\n",
            "            Conv2d-4           [-1, 32, 32, 32]           9,248\n",
            "       BatchNorm2d-5           [-1, 32, 32, 32]              64\n",
            "         LeakyReLU-6           [-1, 32, 32, 32]               0\n",
            "         MaxPool2d-7           [-1, 32, 16, 16]               0\n",
            "            Conv2d-8          [-1, 128, 16, 16]          36,992\n",
            "       BatchNorm2d-9          [-1, 128, 16, 16]             256\n",
            "        LeakyReLU-10          [-1, 128, 16, 16]               0\n",
            "           Conv2d-11           [-1, 64, 16, 16]          73,792\n",
            "      BatchNorm2d-12           [-1, 64, 16, 16]             128\n",
            "        LeakyReLU-13           [-1, 64, 16, 16]               0\n",
            "        MaxPool2d-14             [-1, 64, 8, 8]               0\n",
            "          Dropout-15                 [-1, 4096]               0\n",
            "           Linear-16                 [-1, 1000]       4,097,000\n",
            "             ReLU-17                 [-1, 1000]               0\n",
            "           Linear-18                  [-1, 512]         512,512\n",
            "             ReLU-19                  [-1, 512]               0\n",
            "          Dropout-20                  [-1, 512]               0\n",
            "           Linear-21                    [-1, 4]           2,052\n",
            "================================================================\n",
            "Total params: 4,733,004\n",
            "Trainable params: 4,733,004\n",
            "Non-trainable params: 0\n",
            "----------------------------------------------------------------\n",
            "Input size (MB): 0.01\n",
            "Forward/backward pass size (MB): 2.78\n",
            "Params size (MB): 18.05\n",
            "Estimated Total Size (MB): 20.84\n",
            "----------------------------------------------------------------\n",
            "None\n"
          ]
        }
      ]
    },
    {
      "cell_type": "markdown",
      "metadata": {
        "id": "BEEjKXc-bVn5"
      },
      "source": [
        "# Data Split\n",
        "\n",
        "* Loads the pickle file that was saved previously\n",
        "* Splits dataset into 70/30 split for test,validate\n",
        "* Create a DataLoader helper function for automatic batching"
      ]
    },
    {
      "cell_type": "code",
      "metadata": {
        "colab": {
          "base_uri": "https://localhost:8080/"
        },
        "id": "Xy6-7qY5Kzjq",
        "outputId": "e4d73b0e-a05a-4984-b817-df8998dfda88"
      },
      "source": [
        "\"\"\"\n",
        "Some utilities\n",
        "\"\"\"\n",
        "\n",
        "from pathlib import Path\n",
        "from typing import Dict, List, Union\n",
        "\n",
        "import pandas as pd\n",
        "import torch\n",
        "import torch.nn.init as init\n",
        "from sklearn.model_selection import train_test_split\n",
        "from torch import Tensor\n",
        "from torch.nn import (Conv2d, CrossEntropyLoss, Linear, MaxPool2d, ReLU, Sequential)\n",
        "from torch.optim import Adam\n",
        "from torch.optim.optimizer import Optimizer\n",
        "from torch.utils.data import DataLoader\n",
        "import itertools\n",
        "import matplotlib.pyplot as plt\n",
        "\n",
        "def plot_cm(cm, classes, normalize=False, title='Visualization of the confusion matrix', cmap=plt.cm.Reds):\n",
        "    plt.imshow(cm, interpolation='nearest', cmap=cmap)\n",
        "    plt.title(title)\n",
        "    plt.colorbar()\n",
        "    tick_marks = np.arange(len(classes))\n",
        "    plt.xticks(tick_marks, classes, rotation=45)\n",
        "    plt.yticks(tick_marks, classes)\n",
        "\n",
        "    if normalize:\n",
        "        cm = cm.astype('float') / cm.sum(axis=1)[:, np.newaxis]\n",
        "        print(\"Normalized confusion matrix\")\n",
        "    else:\n",
        "        print('Confusion matrix, without normalization')\n",
        "\n",
        "    print(cm)\n",
        "\n",
        "    thresh = cm.max() / 2.\n",
        "    for i, j in itertools.product(range(cm.shape[0]), range(cm.shape[1])):\n",
        "        plt.text(j, i, cm[i, j],\n",
        "            horizontalalignment=\"center\",\n",
        "            color=\"white\" if cm[i, j] > thresh else \"black\")\n",
        "\n",
        "    plt.tight_layout()\n",
        "    plt.ylabel('Actual True label')\n",
        "    plt.xlabel('Predicted label')\n",
        "\n",
        "def prepare_data(mask_df_path) -> None:\n",
        "        mask_df = pd.read_pickle(mask_df_path)\n",
        "        # print the distribution\n",
        "        print(mask_df['mask'].value_counts())\n",
        "        # train: 1646  :: test: 706\n",
        "        train, validate = train_test_split(mask_df, test_size=0.3, random_state=0,\n",
        "                                           stratify=mask_df['mask'])\n",
        "        return [\n",
        "            MaskDetectionDataset(train),\n",
        "            MaskDetectionDataset(validate),\n",
        "            CrossEntropyLoss()\n",
        "            ]\n",
        "\n",
        "def train_dataloader(train_df) -> DataLoader:\n",
        "    return DataLoader(train_df, batch_size=32, shuffle=True, num_workers=4)\n",
        "\n",
        "def val_dataloader(validate_df) -> DataLoader:\n",
        "    return DataLoader(validate_df, batch_size=32, num_workers=4)   \n",
        "\n",
        "train_df, validate_df, cross_entropy_loss = prepare_data(\"data/dataset/dataset.pickle\")"
      ],
      "execution_count": null,
      "outputs": [
        {
          "output_type": "stream",
          "name": "stdout",
          "text": [
            "3.0    2180\n",
            "2.0    2162\n",
            "0.0    2160\n",
            "1.0    2103\n",
            "Name: mask, dtype: int64\n"
          ]
        }
      ]
    },
    {
      "cell_type": "markdown",
      "metadata": {
        "id": "r8PEigpsbp3I"
      },
      "source": [
        "# Training the model\n",
        "* For each batch get the images and its labels\n",
        "* Pass it to the model to get predictions\n",
        "* compare losses with actual, predicted values"
      ]
    },
    {
      "cell_type": "code",
      "metadata": {
        "colab": {
          "base_uri": "https://localhost:8080/"
        },
        "id": "ifNnhxOflYNB",
        "outputId": "868ba216-d174-4dbc-d863-766e4a658482"
      },
      "source": [
        "print(train_df.dataFrame)\n",
        "print(train_dataloader(train_df))"
      ],
      "execution_count": null,
      "outputs": [
        {
          "output_type": "stream",
          "name": "stdout",
          "text": [
            "                                                  image  mask\n",
            "660   data/dataset/without_mask/26_0_1_2017011403174...   0.0\n",
            "1332  data/dataset/without_mask/60_0_0_2017011716103...   0.0\n",
            "7239  data/dataset/with_ffp2_mask/35_0_1_20170117190...   3.0\n",
            "12    data/dataset/without_mask/25_0_1_2017011315173...   0.0\n",
            "6244  data/dataset/with_cloth_mask/39_1_1_2017011301...   2.0\n",
            "...                                                 ...   ...\n",
            "6252  data/dataset/with_cloth_mask/39_1_1_2017011622...   2.0\n",
            "3785  data/dataset/with_surgical_mask/42_1_1_2017011...   1.0\n",
            "4822  data/dataset/with_cloth_mask/31_1_1_2017011300...   2.0\n",
            "203   data/dataset/without_mask/25_1_1_2017011220520...   0.0\n",
            "127   data/dataset/without_mask/25_1_0_2017011713564...   0.0\n",
            "\n",
            "[6023 rows x 2 columns]\n",
            "<torch.utils.data.dataloader.DataLoader object at 0x7fd812f5a050>\n"
          ]
        },
        {
          "output_type": "stream",
          "name": "stderr",
          "text": [
            "/usr/local/lib/python3.7/dist-packages/torch/utils/data/dataloader.py:481: UserWarning: This DataLoader will create 4 worker processes in total. Our suggested max number of worker in current system is 2, which is smaller than what this DataLoader is going to create. Please be aware that excessive worker creation might get DataLoader running slow or even freeze, lower the worker number to avoid potential slowness/freeze if necessary.\n",
            "  cpuset_checked))\n"
          ]
        }
      ]
    },
    {
      "cell_type": "code",
      "metadata": {
        "id": "gUKBCGJpmVoq"
      },
      "source": [
        "# from torch.utils.data import DataLoader\n",
        "# from torchvision import transforms\n",
        "# from sklearn.model_selection import KFold\n",
        "# import os\n",
        "# import torch\n",
        "# from torch import nn\n",
        "# import numpy as np\n",
        "\n",
        "# epochs = 10 \n",
        "# learning_rate = 0.001 \n",
        "# retrain = False\n",
        "# \"\"\"\n",
        "# Training Step\n",
        "# ~ adaptive moment estimation.\n",
        "# Adam as an optimizer, just adds expected value of the past gradient.\n",
        "# So, it can take different size steps for different params.\n",
        "# and add momentum for every parameter it can perform optimum.\n",
        "\n",
        "# updates network weights iterative based in training data.\n",
        "\n",
        "# Stochastic gradient descent maintains a single learning rate (termed alpha) for all weight updates and the learning rate does not change during training.\n",
        "# A learning rate is maintained for each network weight (parameter) and separately adapted as learning unfolds.\n",
        "# ref: https://machinelearningmastery.com/adam-optimization-algorithm-for-deep-learning/\n",
        "# \"\"\"\n",
        "\n",
        "# import warnings\n",
        "# warnings.filterwarnings('ignore')\n",
        "\n",
        "\n",
        "# def train_model():\n",
        "    \n",
        "#     k_folds = 10;\n",
        "#     kfold = KFold(n_splits=k_folds, shuffle=True)\n",
        "#     for fold, (train_ids, test_ids) in enumerate(kfold.split(maskDF)):\n",
        "#       train_subsampler = torch.utils.data.SubsetRandomSampler(train_ids)\n",
        "#       test_subsampler = torch.utils.data.SubsetRandomSampler(test_ids)\n",
        "#       px = pd.DataFrame(train_subsampler)\n",
        "#       # print(px)\n",
        "#       # print(test_subsampler)\n",
        "\n",
        "#       trainloader = train_dataloader(train_subsampler)\n",
        "#       testloader = val_dataloader(test_subsampler)\n",
        "#       # print(trainloader)\n",
        "#       # print(testloader)\n",
        "#       optimizer = Adam(face_mask_detector_cnn.parameters(), lr=learning_rate)\n",
        "      \n",
        "#       for epoch in range(epochs):\n",
        "#           loss_train = 0.0\n",
        "#           for i, data in enumerate(train_dataloader(train_df), 0):\n",
        "#               inputs, labels = data['image'], data['mask']\n",
        "#               labels = labels.flatten()\n",
        "#               outputs = face_mask_detector_cnn(inputs)\n",
        "#               loss = cross_entropy_loss(outputs, labels)\n",
        "#               optimizer.zero_grad() \n",
        "#               loss.backward()\n",
        "#               optimizer.step()\n",
        "#               loss_train += loss\n",
        "#           print(f' LOSS :: Training Loss (after epoch {epoch}):', loss_train)\n",
        "        \n",
        "\n",
        "# train_model()\n",
        "# print('Model training has finished')"
      ],
      "execution_count": null,
      "outputs": []
    },
    {
      "cell_type": "code",
      "metadata": {
        "id": "2yxyDxsvK-9k",
        "colab": {
          "base_uri": "https://localhost:8080/"
        },
        "outputId": "d5a39005-f718-4fc5-ae87-b258eac2fd4a"
      },
      "source": [
        "from torch.utils.data import DataLoader\n",
        "from torchvision import transforms\n",
        "from sklearn.model_selection import KFold\n",
        "import os\n",
        "import torch\n",
        "from torch import nn\n",
        "\n",
        "epochs = 10 \n",
        "learning_rate = 0.001 \n",
        "retrain = False\n",
        "\"\"\"\n",
        "Training Step\n",
        "~ adaptive moment estimation.\n",
        "Adam as an optimizer, just adds expected value of the past gradient.\n",
        "So, it can take different size steps for different params.\n",
        "and add momentum for every parameter it can perform optimum.\n",
        "\n",
        "updates network weights iterative based in training data.\n",
        "\n",
        "Stochastic gradient descent maintains a single learning rate (termed alpha) for all weight updates and the learning rate does not change during training.\n",
        "A learning rate is maintained for each network weight (parameter) and separately adapted as learning unfolds.\n",
        "ref: https://machinelearningmastery.com/adam-optimization-algorithm-for-deep-learning/\n",
        "\"\"\"\n",
        "\n",
        "import warnings\n",
        "warnings.filterwarnings('ignore')\n",
        "\n",
        "\n",
        "def train_model():\n",
        "    optimizer = Adam(face_mask_detector_cnn.parameters(), lr=learning_rate)\n",
        "    for epoch in range(epochs):\n",
        "        loss_train = 0.0\n",
        "        for i, data in enumerate(train_dataloader(train_df), 0):\n",
        "            inputs, labels = data['image'], data['mask']\n",
        "            labels = labels.flatten()\n",
        "            outputs = face_mask_detector_cnn(inputs)\n",
        "            loss = cross_entropy_loss(outputs, labels)\n",
        "            optimizer.zero_grad() \n",
        "            loss.backward()\n",
        "            optimizer.step()\n",
        "            loss_train += loss\n",
        "        print(f' LOSS :: Training Loss (after epoch {epoch}):', loss_train)\n",
        "        \n",
        "\n",
        "train_model()\n",
        "print('Model training has finished')"
      ],
      "execution_count": null,
      "outputs": [
        {
          "output_type": "stream",
          "name": "stdout",
          "text": [
            " LOSS :: Training Loss (after epoch 0): tensor(169.9377, grad_fn=<AddBackward0>)\n",
            " LOSS :: Training Loss (after epoch 1): tensor(78.9100, grad_fn=<AddBackward0>)\n",
            " LOSS :: Training Loss (after epoch 2): tensor(54.5242, grad_fn=<AddBackward0>)\n",
            " LOSS :: Training Loss (after epoch 3): tensor(33.0702, grad_fn=<AddBackward0>)\n",
            " LOSS :: Training Loss (after epoch 4): tensor(30.9495, grad_fn=<AddBackward0>)\n",
            " LOSS :: Training Loss (after epoch 5): tensor(29.6660, grad_fn=<AddBackward0>)\n",
            " LOSS :: Training Loss (after epoch 6): tensor(18.9901, grad_fn=<AddBackward0>)\n",
            " LOSS :: Training Loss (after epoch 7): tensor(20.3314, grad_fn=<AddBackward0>)\n",
            " LOSS :: Training Loss (after epoch 8): tensor(14.6376, grad_fn=<AddBackward0>)\n",
            " LOSS :: Training Loss (after epoch 9): tensor(17.3395, grad_fn=<AddBackward0>)\n",
            "Model training has finished\n"
          ]
        }
      ]
    },
    {
      "cell_type": "markdown",
      "metadata": {
        "id": "j0x0USCebwCb"
      },
      "source": [
        "# Evaluate the model \n",
        "* Run the model to evaluate its accuracy on unseen images using validate dataset\n",
        "* print model's accuracy, f1, precision, recall scores"
      ]
    },
    {
      "cell_type": "code",
      "metadata": {
        "id": "yrc1MG-KLJ2L",
        "colab": {
          "base_uri": "https://localhost:8080/",
          "height": 611
        },
        "outputId": "272a153c-7fd7-44bd-db13-3523a76b76e6"
      },
      "source": [
        "\"\"\"\n",
        "Evaluate the model\n",
        "\"\"\"\n",
        "\n",
        "from numpy import vstack\n",
        "from sklearn.metrics import accuracy_score, f1_score, precision_score, recall_score, classification_report, confusion_matrix\n",
        "\n",
        "def evaluate_model():\n",
        "    predictions, actuals = torch.tensor([]), torch.tensor([])\n",
        "    for i, data in enumerate(val_dataloader(validate_df)):\n",
        "        inputs, targets = data['image'], data['mask']\n",
        "        targets = targets.flatten()\n",
        "        output = face_mask_detector_cnn(inputs)\n",
        "        output = torch.argmax(output,axis=1) #max\n",
        "        predictions = torch.cat((predictions, output.flatten()), dim=0)\n",
        "        actuals = torch.cat((actuals, targets), dim=0)  \n",
        "    classes = ['without_mask','with_mask_surgical', 'with_mask_cloth', 'with_mask_ffp2']\n",
        "    print(classification_report(actuals, predictions, digits = 4, target_names=classes))\n",
        "    confusion_mat = confusion_matrix(actuals.numpy(), predictions.numpy())\n",
        "    plot_cm(confusion_mat, classes)\n",
        "evaluate_model()"
      ],
      "execution_count": 16,
      "outputs": [
        {
          "output_type": "stream",
          "name": "stdout",
          "text": [
            "                    precision    recall  f1-score   support\n",
            "\n",
            "      without_mask     0.9813    0.9707    0.9760       648\n",
            "with_mask_surgical     0.9236    0.8811    0.9019       631\n",
            "   with_mask_cloth     0.8897    0.9815    0.9333       649\n",
            "    with_mask_ffp2     0.9711    0.9251    0.9475       654\n",
            "\n",
            "          accuracy                         0.9400      2582\n",
            "         macro avg     0.9414    0.9396    0.9397      2582\n",
            "      weighted avg     0.9416    0.9400    0.9399      2582\n",
            "\n",
            "Confusion matrix, without normalization\n",
            "[[629   2   7  10]\n",
            " [  2 556  66   7]\n",
            " [  4   7 637   1]\n",
            " [  6  37   6 605]]\n"
          ]
        },
        {
          "output_type": "display_data",
          "data": {
            "image/png": "[encoded data removed]",
            "text/plain": [
              "<Figure size 432x288 with 2 Axes>"
            ]
          },
          "metadata": {
            "needs_background": "light"
          }
        }
      ]
    },
    {
      "cell_type": "markdown",
      "metadata": {
        "id": "PkrBPArmb1KZ"
      },
      "source": [
        "# Prediction of random image using trained Model"
      ]
    },
    {
      "cell_type": "code",
      "metadata": {
        "id": "4zcyjzUK5_cb",
        "colab": {
          "base_uri": "https://localhost:8080/",
          "height": 321
        },
        "outputId": "6e06658e-a3fb-4752-c742-15d80caf204e"
      },
      "source": [
        "\"\"\"\n",
        "Predict\n",
        "\"\"\"\n",
        "\n",
        "import matplotlib.pyplot as plt\n",
        "import random\n",
        "\n",
        "class_mapping = {\n",
        "    0: \"without_mask\",\n",
        "    1: \"with_mask_surgical\",\n",
        "    2: \"with_mask_cloth\",\n",
        "    3: \"with_mask_ffp2\",\n",
        "}\n",
        "\n",
        "def predict():\n",
        "  rand_sampler = torch.utils.data.RandomSampler(validate_df, num_samples=32, replacement=True)\n",
        "  data = iter(DataLoader(validate_df, batch_size=32, num_workers=1, sampler=rand_sampler)).next()\n",
        "  inputs,targets = data['image'], data['mask']\n",
        "  output = face_mask_detector_cnn(inputs)\n",
        "  output = torch.argmax(output,axis=1)\n",
        "  rand_ind = random.choice(list(range(0,32)))\n",
        "  print(data['path'][rand_ind])\n",
        "  img = Image.open(data['path'][rand_ind])\n",
        "  plt.imshow(np.asarray(img))\n",
        "  print(\"Actual:\", class_mapping[targets[rand_ind].tolist()[0]])\n",
        "  print(\"Predicted:\",class_mapping[output[rand_ind].tolist()])\n",
        "\n",
        "predict()"
      ],
      "execution_count": null,
      "outputs": [
        {
          "output_type": "stream",
          "name": "stdout",
          "text": [
            "data/dataset/with_ffp2_mask/31_1_1_20170113012712161_N95.jpg\n",
            "Actual: with_mask_ffp2\n",
            "Predicted: with_mask_ffp2\n"
          ]
        },
        {
          "output_type": "display_data",
          "data": {
            "image/png": "[encoded data removed]",
            "text/plain": [
              "<Figure size 432x288 with 1 Axes>"
            ]
          },
          "metadata": {
            "needs_background": "light"
          }
        }
      ]
    },
    {
      "cell_type": "code",
      "metadata": {
        "id": "9G4XQes5TzxU",
        "colab": {
          "base_uri": "https://localhost:8080/"
        },
        "outputId": "717ef221-98a2-4167-d1e2-07d5eb8f80ae"
      },
      "source": [
        "\n",
        "num_classes = 4\n",
        "learning_rate = 0.001\n",
        "train_size = .70\n",
        "testsize = .30\n",
        "train_data = None\n",
        "test_set = None\n",
        "transform = transforms.Compose(\n",
        "    [transforms.Resize((32, 32)),\n",
        "     transforms.ToTensor(),\n",
        "     transforms.Normalize((0.5, 0.5, 0.5), (0.5, 0.5, 0.5))])\n",
        "\n",
        "testsize = .3\n",
        "train_dataset = None\n",
        "test_dataset = None\n",
        "batchsize = 32\n",
        "num_epochs = 4\n",
        "dataset_name = datasetPath\n",
        "dataset = datasets.ImageFolder(('./%s/') % dataset_name,\n",
        "                                       transform=transform)\n",
        "\n",
        "labels = dataset.classes\n",
        "classes = dataset.classes\n",
        "\n",
        "dataset_size = len(dataset)\n",
        "print(dataset_size)\n",
        "print(dataset)\n",
        "test_size = int(testsize * dataset_size)\n",
        "train_size = dataset_size - test_size\n",
        "print('>> TRAINING DATA SIZE : ', train_size)\n",
        "# print(train_size)\n",
        "print('>> TESTING DATA SIZE : ', test_size)\n",
        "# print(test_size)\n",
        "print(type(dataset))\n",
        "train_dataset, test_dataset = torch.utils.data.random_split(dataset, [train_size, test_size])\n",
        "print(type(train_dataset))\n",
        "\n",
        "\n",
        "train_loader = torch.utils.data.DataLoader(train_dataset, batch_size=batchsize, shuffle=True,\n",
        "                                            num_workers=2)\n",
        "test_loader = torch.utils.data.DataLoader(test_dataset, batch_size=batchsize, shuffle=True, num_workers=2)\n",
        "print(type(train_loader))\n",
        "\n",
        "model = face_mask_detector_cnn\n",
        "criterion = nn.CrossEntropyLoss()\n",
        "optimizer = torch.optim.Adam(model.parameters(), lr=learning_rate)\n",
        "\n",
        "total_step = len(train_loader)\n",
        "loss_list = []\n",
        "acc_list = []\n",
        "\n",
        "kf = KFold(n_splits=10)\n",
        "foldCount = 0\n",
        "dataset_name=str(datasetPath)+''\n",
        "dataset = datasets.ImageFolder(('./%s/') % dataset_name,\n",
        "                                transform=transform)\n",
        "for train_index, test_index in kf.split(dataset):\n",
        "    print(\"fold\")\n",
        "    print(foldCount)\n",
        "    foldCount=foldCount+1\n",
        "    train_dataset = Subset(dataset, train_index)\n",
        "    test_dataset = Subset(dataset, test_index)\n",
        "    test_set = test_dataset\n",
        "    train_data = train_dataset\n",
        "    train_loader = torch.utils.data.DataLoader(train_dataset, batch_size=batchsize, shuffle=True,\n",
        "                                                num_workers=2)\n",
        "    test_loader = torch.utils.data.DataLoader(test_dataset, batch_size=batchsize, shuffle=True,\n",
        "                                              num_workers=2)\n",
        "    for epoch in range(num_epochs):\n",
        "        for i, (images, labels) in enumerate(train_loader):\n",
        "            # Forward pass\n",
        "            outputs = model(images)\n",
        "            loss = criterion(outputs, labels)\n",
        "            loss_list.append(loss.item())\n",
        "            # Backprop and optimisation\n",
        "            optimizer.zero_grad()\n",
        "            loss.backward()\n",
        "            optimizer.step()\n",
        "            # Train accuracy\n",
        "            total = labels.size(0)\n",
        "            _, predicted = torch.max(outputs.data, 1)\n",
        "            correct = (predicted == labels).sum().item()\n",
        "            acc_list.append(correct / total)\n",
        "            if (i + 1) % 100 == 0:\n",
        "                print('Epoch [{}/{}], Step [{}/{}], Loss: {:.4f}, Accuracy: {:.2f}%'\n",
        "                      .format(epoch + 1, num_epochs, i + 1, total_step, loss.item(), (correct / total) * 100))\n"
      ],
      "execution_count": 26,
      "outputs": [
        {
          "output_type": "stream",
          "name": "stdout",
          "text": [
            "8605\n",
            "Dataset ImageFolder\n",
            "    Number of datapoints: 8605\n",
            "    Root location: ./data/dataset/\n",
            "    StandardTransform\n",
            "Transform: Compose(\n",
            "               Resize(size=(32, 32), interpolation=bilinear, max_size=None, antialias=None)\n",
            "               ToTensor()\n",
            "               Normalize(mean=(0.5, 0.5, 0.5), std=(0.5, 0.5, 0.5))\n",
            "           )\n",
            ">> TRAINING DATA SIZE :  6024\n",
            ">> TESTING DATA SIZE :  2581\n",
            "<class 'torchvision.datasets.folder.ImageFolder'>\n",
            "<class 'torch.utils.data.dataset.Subset'>\n",
            "<class 'torch.utils.data.dataloader.DataLoader'>\n",
            "fold\n",
            "0\n",
            "Epoch [1/4], Step [100/189], Loss: 0.1109, Accuracy: 93.75%\n",
            "Epoch [1/4], Step [200/189], Loss: 0.0231, Accuracy: 100.00%\n",
            "Epoch [2/4], Step [100/189], Loss: 0.0383, Accuracy: 96.88%\n",
            "Epoch [2/4], Step [200/189], Loss: 0.2527, Accuracy: 90.62%\n",
            "Epoch [3/4], Step [100/189], Loss: 0.1198, Accuracy: 96.88%\n",
            "Epoch [3/4], Step [200/189], Loss: 0.0425, Accuracy: 96.88%\n",
            "Epoch [4/4], Step [100/189], Loss: 0.0325, Accuracy: 100.00%\n",
            "Epoch [4/4], Step [200/189], Loss: 0.0043, Accuracy: 100.00%\n",
            "fold\n",
            "1\n",
            "Epoch [1/4], Step [100/189], Loss: 0.2665, Accuracy: 84.38%\n",
            "Epoch [1/4], Step [200/189], Loss: 0.0222, Accuracy: 100.00%\n",
            "Epoch [2/4], Step [100/189], Loss: 0.2342, Accuracy: 93.75%\n",
            "Epoch [2/4], Step [200/189], Loss: 0.3409, Accuracy: 84.38%\n",
            "Epoch [3/4], Step [100/189], Loss: 0.0430, Accuracy: 96.88%\n",
            "Epoch [3/4], Step [200/189], Loss: 0.0730, Accuracy: 96.88%\n",
            "Epoch [4/4], Step [100/189], Loss: 0.1152, Accuracy: 96.88%\n",
            "Epoch [4/4], Step [200/189], Loss: 0.0118, Accuracy: 100.00%\n",
            "fold\n",
            "2\n",
            "Epoch [1/4], Step [100/189], Loss: 0.0910, Accuracy: 93.75%\n",
            "Epoch [1/4], Step [200/189], Loss: 0.0366, Accuracy: 96.88%\n",
            "Epoch [2/4], Step [100/189], Loss: 0.0989, Accuracy: 96.88%\n",
            "Epoch [2/4], Step [200/189], Loss: 0.0132, Accuracy: 100.00%\n",
            "Epoch [3/4], Step [100/189], Loss: 0.0804, Accuracy: 96.88%\n",
            "Epoch [3/4], Step [200/189], Loss: 0.0039, Accuracy: 100.00%\n",
            "Epoch [4/4], Step [100/189], Loss: 0.0089, Accuracy: 100.00%\n",
            "Epoch [4/4], Step [200/189], Loss: 0.0041, Accuracy: 100.00%\n",
            "fold\n",
            "3\n",
            "Epoch [1/4], Step [100/189], Loss: 0.0103, Accuracy: 100.00%\n",
            "Epoch [1/4], Step [200/189], Loss: 0.0475, Accuracy: 96.88%\n",
            "Epoch [2/4], Step [100/189], Loss: 0.0382, Accuracy: 96.88%\n",
            "Epoch [2/4], Step [200/189], Loss: 0.0098, Accuracy: 100.00%\n",
            "Epoch [3/4], Step [100/189], Loss: 0.0037, Accuracy: 100.00%\n",
            "Epoch [3/4], Step [200/189], Loss: 0.0026, Accuracy: 100.00%\n",
            "Epoch [4/4], Step [100/189], Loss: 0.0617, Accuracy: 96.88%\n",
            "Epoch [4/4], Step [200/189], Loss: 0.0093, Accuracy: 100.00%\n",
            "fold\n",
            "4\n",
            "Epoch [1/4], Step [100/189], Loss: 0.0024, Accuracy: 100.00%\n",
            "Epoch [1/4], Step [200/189], Loss: 0.0420, Accuracy: 96.88%\n",
            "Epoch [2/4], Step [100/189], Loss: 0.0113, Accuracy: 100.00%\n",
            "Epoch [2/4], Step [200/189], Loss: 0.0003, Accuracy: 100.00%\n",
            "Epoch [3/4], Step [100/189], Loss: 0.0002, Accuracy: 100.00%\n",
            "Epoch [3/4], Step [200/189], Loss: 0.0101, Accuracy: 100.00%\n",
            "Epoch [4/4], Step [100/189], Loss: 0.0023, Accuracy: 100.00%\n",
            "Epoch [4/4], Step [200/189], Loss: 0.0004, Accuracy: 100.00%\n",
            "fold\n",
            "5\n",
            "Epoch [1/4], Step [100/189], Loss: 0.0159, Accuracy: 100.00%\n",
            "Epoch [1/4], Step [200/189], Loss: 0.0085, Accuracy: 100.00%\n",
            "Epoch [2/4], Step [100/189], Loss: 0.0333, Accuracy: 96.88%\n",
            "Epoch [2/4], Step [200/189], Loss: 0.1990, Accuracy: 93.75%\n",
            "Epoch [3/4], Step [100/189], Loss: 0.0034, Accuracy: 100.00%\n",
            "Epoch [3/4], Step [200/189], Loss: 0.0035, Accuracy: 100.00%\n",
            "Epoch [4/4], Step [100/189], Loss: 0.0116, Accuracy: 100.00%\n",
            "Epoch [4/4], Step [200/189], Loss: 0.0385, Accuracy: 100.00%\n",
            "fold\n",
            "6\n",
            "Epoch [1/4], Step [100/189], Loss: 0.0078, Accuracy: 100.00%\n",
            "Epoch [1/4], Step [200/189], Loss: 0.0255, Accuracy: 96.88%\n",
            "Epoch [2/4], Step [100/189], Loss: 0.0134, Accuracy: 100.00%\n",
            "Epoch [2/4], Step [200/189], Loss: 0.0411, Accuracy: 96.88%\n",
            "Epoch [3/4], Step [100/189], Loss: 0.0004, Accuracy: 100.00%\n",
            "Epoch [3/4], Step [200/189], Loss: 0.0008, Accuracy: 100.00%\n",
            "Epoch [4/4], Step [100/189], Loss: 0.0221, Accuracy: 100.00%\n",
            "Epoch [4/4], Step [200/189], Loss: 0.0177, Accuracy: 100.00%\n",
            "fold\n",
            "7\n",
            "Epoch [1/4], Step [100/189], Loss: 0.1289, Accuracy: 93.75%\n",
            "Epoch [1/4], Step [200/189], Loss: 0.0653, Accuracy: 96.88%\n",
            "Epoch [2/4], Step [100/189], Loss: 0.0035, Accuracy: 100.00%\n",
            "Epoch [2/4], Step [200/189], Loss: 0.0004, Accuracy: 100.00%\n",
            "Epoch [3/4], Step [100/189], Loss: 0.0083, Accuracy: 100.00%\n",
            "Epoch [3/4], Step [200/189], Loss: 0.0019, Accuracy: 100.00%\n",
            "Epoch [4/4], Step [100/189], Loss: 0.0183, Accuracy: 100.00%\n",
            "Epoch [4/4], Step [200/189], Loss: 0.0009, Accuracy: 100.00%\n",
            "fold\n",
            "8\n",
            "Epoch [1/4], Step [100/189], Loss: 0.0006, Accuracy: 100.00%\n",
            "Epoch [1/4], Step [200/189], Loss: 0.0023, Accuracy: 100.00%\n",
            "Epoch [2/4], Step [100/189], Loss: 0.0006, Accuracy: 100.00%\n",
            "Epoch [2/4], Step [200/189], Loss: 0.0039, Accuracy: 100.00%\n",
            "Epoch [3/4], Step [100/189], Loss: 0.0159, Accuracy: 100.00%\n",
            "Epoch [3/4], Step [200/189], Loss: 0.0013, Accuracy: 100.00%\n",
            "Epoch [4/4], Step [100/189], Loss: 0.1041, Accuracy: 96.88%\n",
            "Epoch [4/4], Step [200/189], Loss: 0.0286, Accuracy: 96.88%\n",
            "fold\n",
            "9\n",
            "Epoch [1/4], Step [100/189], Loss: 0.0229, Accuracy: 100.00%\n",
            "Epoch [1/4], Step [200/189], Loss: 0.0005, Accuracy: 100.00%\n",
            "Epoch [2/4], Step [100/189], Loss: 0.0032, Accuracy: 100.00%\n",
            "Epoch [2/4], Step [200/189], Loss: 0.0026, Accuracy: 100.00%\n",
            "Epoch [3/4], Step [100/189], Loss: 0.0067, Accuracy: 100.00%\n",
            "Epoch [3/4], Step [200/189], Loss: 0.0098, Accuracy: 100.00%\n",
            "Epoch [4/4], Step [100/189], Loss: 0.0009, Accuracy: 100.00%\n",
            "Epoch [4/4], Step [200/189], Loss: 0.0000, Accuracy: 100.00%\n"
          ]
        }
      ]
    },
    {
      "cell_type": "code",
      "metadata": {
        "id": "qAksC-ZzMuyG"
      },
      "source": [
        ""
      ],
      "execution_count": null,
      "outputs": []
    }
  ]
}